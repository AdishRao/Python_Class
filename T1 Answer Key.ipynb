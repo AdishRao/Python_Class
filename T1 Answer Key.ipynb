{
 "cells": [
  {
   "cell_type": "code",
   "execution_count": 3,
   "metadata": {},
   "outputs": [
    {
     "name": "stdout",
     "output_type": "stream",
     "text": [
      "Enter num or done4r\n",
      "Error not a num\n",
      "Enter num or done5\n",
      "Enter num or donedone\n",
      "5 1 5.0\n"
     ]
    }
   ],
   "source": [
    "num = input(\"Enter num or done\")\n",
    "total=count=average=0\n",
    "while num != \"done\":\n",
    "    try:\n",
    "        total+=int(num)\n",
    "        count+=1\n",
    "    except:\n",
    "        print(\"Error not a num\")\n",
    "    finally:\n",
    "        num = input(\"Enter num or done\")\n",
    "average=total/count\n",
    "print(total,count,average)"
   ]
  },
  {
   "cell_type": "code",
   "execution_count": 19,
   "metadata": {},
   "outputs": [
    {
     "data": {
      "text/plain": [
       "28"
      ]
     },
     "execution_count": 19,
     "metadata": {},
     "output_type": "execute_result"
    }
   ],
   "source": [
    "st = \"She Sells sea shells on the sea shore\"\n",
    "i = st.index('sea')\n",
    "r = st[i+len('sea'):].index('sea')+i+len('sea')\n",
    "r"
   ]
  },
  {
   "cell_type": "code",
   "execution_count": 39,
   "metadata": {},
   "outputs": [
    {
     "name": "stdout",
     "output_type": "stream",
     "text": [
      "False\n"
     ]
    }
   ],
   "source": [
    "def isfib(n):\n",
    "    if n == 0 or n==1:\n",
    "        return True\n",
    "    a=0\n",
    "    b=1\n",
    "    while b<=n:\n",
    "        t=b\n",
    "        b=a+b\n",
    "        a=t\n",
    "        if b==n:\n",
    "            return True\n",
    "    return False\n",
    "print(isfib(11))"
   ]
  },
  {
   "cell_type": "code",
   "execution_count": 24,
   "metadata": {},
   "outputs": [
    {
     "name": "stdout",
     "output_type": "stream",
     "text": [
      "stank\n",
      "stanking\n"
     ]
    }
   ],
   "source": [
    "st = input()\n",
    "if len(st) >= 3:\n",
    "    if st.endswith('ing'):\n",
    "        st += 'ly'\n",
    "    else: \n",
    "        st += 'ing'\n",
    "print(st)"
   ]
  },
  {
   "cell_type": "code",
   "execution_count": 27,
   "metadata": {},
   "outputs": [
    {
     "name": "stdout",
     "output_type": "stream",
     "text": [
      "Za123\n",
      "6\n"
     ]
    }
   ],
   "source": [
    "ip = input(\"\")\n",
    "sum = 0\n",
    "for i in ip:\n",
    "    if i.isnumeric():\n",
    "        sum+=int(i)\n",
    "print(sum)"
   ]
  },
  {
   "cell_type": "code",
   "execution_count": 43,
   "metadata": {},
   "outputs": [
    {
     "name": "stdout",
     "output_type": "stream",
     "text": [
      "hello world i am animus\n",
      "khoor world l am dqlpxv\n"
     ]
    }
   ],
   "source": [
    "msg = input()\n",
    "enc = \"\"\n",
    "key = 3\n",
    "c = 1\n",
    "for i in msg: \n",
    "    if i == ' ':\n",
    "        enc += i\n",
    "        c += 1\n",
    "    else: \n",
    "        if c%2 == 1:\n",
    "            enc += chr( ( ord(i)-ord('a') + key ) % 26 + ord('a'))\n",
    "        else:\n",
    "            enc += i\n",
    "print(enc)\n",
    "            "
   ]
  },
  {
   "cell_type": "code",
   "execution_count": 46,
   "metadata": {},
   "outputs": [
    {
     "name": "stdout",
     "output_type": "stream",
     "text": [
      "helloworld\n",
      "hlool\n",
      "hlool\n"
     ]
    }
   ],
   "source": [
    "msg = input()\n",
    "print(msg[0::2])\n",
    "c = 0\n",
    "tmp = ''\n",
    "for i in msg:\n",
    "    if c == 0:\n",
    "        c = 1\n",
    "        tmp += i\n",
    "    else:\n",
    "        c = 0\n",
    "msg = tmp\n",
    "print(msg)"
   ]
  },
  {
   "cell_type": "code",
   "execution_count": 51,
   "metadata": {},
   "outputs": [
    {
     "name": "stdout",
     "output_type": "stream",
     "text": [
      "ENTER FILE spam.txt\n",
      "0.3\n"
     ]
    }
   ],
   "source": [
    "s = input('ENTER FILE ')\n",
    "ifile = open(s,'r')\n",
    "c = 0\n",
    "avg = 0\n",
    "sum = 0\n",
    "for line in ifile.readlines():\n",
    "    n = line.find('X-DSPAM-confidence')\n",
    "    if n != -1:\n",
    "        c += 1\n",
    "        sum += float(line[n+len('X-DSPAM-confidence')+1:])\n",
    "if c!=0:\n",
    "    avg = sum/c \n",
    "print(avg)"
   ]
  }
 ],
 "metadata": {
  "kernelspec": {
   "display_name": "Python 3",
   "language": "python",
   "name": "python3"
  },
  "language_info": {
   "codemirror_mode": {
    "name": "ipython",
    "version": 3
   },
   "file_extension": ".py",
   "mimetype": "text/x-python",
   "name": "python",
   "nbconvert_exporter": "python",
   "pygments_lexer": "ipython3",
   "version": "3.6.6"
  }
 },
 "nbformat": 4,
 "nbformat_minor": 2
}
