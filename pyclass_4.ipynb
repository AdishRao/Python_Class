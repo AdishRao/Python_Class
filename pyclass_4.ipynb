{
 "cells": [
  {
   "cell_type": "markdown",
   "metadata": {},
   "source": [
    "# Operators"
   ]
  },
  {
   "cell_type": "code",
   "execution_count": 3,
   "metadata": {},
   "outputs": [
    {
     "data": {
      "text/plain": [
       "[1, 2, 3, 4]"
      ]
     },
     "execution_count": 3,
     "metadata": {},
     "output_type": "execute_result"
    }
   ],
   "source": [
    "#   +\n",
    "a = [1,2]+[3,4] # () as well \n",
    "a"
   ]
  },
  {
   "cell_type": "code",
   "execution_count": 44,
   "metadata": {},
   "outputs": [
    {
     "name": "stdout",
     "output_type": "stream",
     "text": [
      "Helloooooooooooooooooooooooooooooooooooooooooooooooooooooooooooooooooooooooooooooooooooooooooooooooooooo it\"s me....\n",
      "[1, 2, 3, 1, 2, 3, 1, 2, 3]\n"
     ]
    }
   ],
   "source": [
    "#   *\n",
    "a = 'Hell'+ 'o'*100 +' it\"s me....'\n",
    "print(a)\n",
    "a = [1,2,3]*3\n",
    "print(a)"
   ]
  },
  {
   "cell_type": "code",
   "execution_count": 14,
   "metadata": {},
   "outputs": [
    {
     "name": "stdout",
     "output_type": "stream",
     "text": [
      "2\n",
      "2.0\n"
     ]
    }
   ],
   "source": [
    "# truncation Div\n",
    "print(5//2)\n",
    "print(5//2.0)"
   ]
  },
  {
   "cell_type": "code",
   "execution_count": 22,
   "metadata": {},
   "outputs": [
    {
     "data": {
      "text/plain": [
       "256"
      ]
     },
     "execution_count": 22,
     "metadata": {},
     "output_type": "execute_result"
    }
   ],
   "source": [
    "# Exponent is Right to Left Associative\n",
    "2**2**3"
   ]
  },
  {
   "cell_type": "code",
   "execution_count": 27,
   "metadata": {},
   "outputs": [
    {
     "name": "stdout",
     "output_type": "stream",
     "text": [
      "4\n",
      "4\n",
      "5\n"
     ]
    }
   ],
   "source": [
    "print(round(3.5))\n",
    "print(round(4.5)) #rounds to the nearest even number when on a .5 (only for .5)\n",
    "print(round(4.6))"
   ]
  },
  {
   "cell_type": "code",
   "execution_count": 41,
   "metadata": {},
   "outputs": [
    {
     "name": "stdout",
     "output_type": "stream",
     "text": [
      "Enter n digit number123\n",
      "6\n"
     ]
    }
   ],
   "source": [
    "a = str(input(\"Enter n digit number\"))\n",
    "sum = 0 \n",
    "for al in a: \n",
    "    sum = sum + int(al)\n",
    "print(sum)"
   ]
  },
  {
   "cell_type": "code",
   "execution_count": null,
   "metadata": {},
   "outputs": [],
   "source": [
    "a = str(input(\"Enter n digit number\"))\n",
    "sum = 0 \n",
    "for al in a: \n",
    "    \n",
    "print(sum)"
   ]
  },
  {
   "cell_type": "markdown",
   "metadata": {},
   "source": [
    "# Bitwise operators\n",
    "\n",
    "`&` and\n",
    "\n",
    "`|` or\n",
    "\n",
    "`^` Xor\n",
    "\n",
    "`<<` left\n",
    "\n",
    "`>>` right\n",
    "\n",
    "`~` complement\n",
    "\n",
    "### Swap 2 numbers using bitwise"
   ]
  },
  {
   "cell_type": "code",
   "execution_count": 57,
   "metadata": {},
   "outputs": [
    {
     "name": "stdout",
     "output_type": "stream",
     "text": [
      "1\n",
      "2\n",
      "0b1 0b10\n",
      "0b10 0b1\n"
     ]
    }
   ],
   "source": [
    "a = int(input())\n",
    "b = int(input())\n",
    "print(bin(a),bin(b))\n",
    "a = a^b\n",
    "b = a^b\n",
    "a=a^b\n",
    "print(bin(a),bin(b))\n",
    "#to rep a number a = 0b1001\n",
    "# ~n = -(n+1) to get complement of number"
   ]
  },
  {
   "cell_type": "markdown",
   "metadata": {},
   "source": [
    "# Relational Operators\n",
    "\n",
    "   You better already know em."
   ]
  },
  {
   "cell_type": "markdown",
   "metadata": {},
   "source": [
    "# Logcical Operators\n",
    "\n",
    " `and`\n",
    " \n",
    " `or`\n",
    " \n",
    " `not`"
   ]
  },
  {
   "cell_type": "code",
   "execution_count": 64,
   "metadata": {},
   "outputs": [
    {
     "name": "stdout",
     "output_type": "stream",
     "text": [
      "1\n",
      "5\n",
      "3\n",
      "False\n"
     ]
    }
   ],
   "source": [
    "#Cascading operation\n",
    "a = input()\n",
    "b = input()\n",
    "c = input()\n",
    "print(a>b>c) # same as a>b and a>c"
   ]
  },
  {
   "cell_type": "markdown",
   "metadata": {},
   "source": [
    "# Membership operators\n",
    "\n",
    "`in`\n",
    "\n",
    "`not in` \n",
    "\n",
    "Only in collection data types"
   ]
  },
  {
   "cell_type": "code",
   "execution_count": 66,
   "metadata": {},
   "outputs": [
    {
     "data": {
      "text/plain": [
       "True"
      ]
     },
     "execution_count": 66,
     "metadata": {},
     "output_type": "execute_result"
    }
   ],
   "source": [
    "a = 'hello'\n",
    "'h' in a"
   ]
  }
 ],
 "metadata": {
  "kernelspec": {
   "display_name": "Python 3",
   "language": "python",
   "name": "python3"
  },
  "language_info": {
   "codemirror_mode": {
    "name": "ipython",
    "version": 3
   },
   "file_extension": ".py",
   "mimetype": "text/x-python",
   "name": "python",
   "nbconvert_exporter": "python",
   "pygments_lexer": "ipython3",
   "version": "3.6.6"
  }
 },
 "nbformat": 4,
 "nbformat_minor": 2
}
